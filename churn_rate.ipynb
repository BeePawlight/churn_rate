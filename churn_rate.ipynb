{
 "cells": [
  {
   "cell_type": "markdown",
   "id": "41e7710a",
   "metadata": {},
   "source": [
    "# Отток клиентов"
   ]
  },
  {
   "cell_type": "markdown",
   "id": "77f9880f",
   "metadata": {},
   "source": [
    "Из «Бета-Банка» стали уходить клиенты. Каждый месяц. Немного, но заметно. Банковские маркетологи посчитали: сохранять текущих клиентов дешевле, чем привлекать новых.\n",
    "\n",
    "Нужно спрогнозировать, уйдёт клиент из банка в ближайшее время или нет. Вам предоставлены исторические данные о поведении клиентов и расторжении договоров с банком. \n",
    "\n",
    "Постройте модель с предельно большим значением *F1*-меры. Чтобы сдать проект успешно, нужно довести метрику до 0.59. Проверьте *F1*-меру на тестовой выборке самостоятельно.\n",
    "\n",
    "Дополнительно измеряйте *AUC-ROC*, сравнивайте её значение с *F1*-мерой."
   ]
  },
  {
   "cell_type": "markdown",
   "id": "1349df7e",
   "metadata": {},
   "source": [
    "## Подготовка данных"
   ]
  },
  {
   "cell_type": "code",
   "execution_count": 1,
   "id": "d6437d73",
   "metadata": {},
   "outputs": [],
   "source": [
    "import pandas as pd\n",
    "pd.options.mode.chained_assignment = None\n",
    "from sklearn.preprocessing import OrdinalEncoder\n",
    "from sklearn.model_selection import train_test_split\n",
    "from sklearn.preprocessing import StandardScaler\n",
    "from sklearn.tree import DecisionTreeClassifier\n",
    "from sklearn.metrics import accuracy_score, confusion_matrix, recall_score, precision_score, f1_score, roc_auc_score\n",
    "from sklearn.ensemble import RandomForestClassifier\n",
    "from sklearn.utils import shuffle"
   ]
  },
  {
   "cell_type": "markdown",
   "id": "e383b5d4",
   "metadata": {},
   "source": [
    "### Загрузка данных и ознакомление"
   ]
  },
  {
   "cell_type": "code",
   "execution_count": 2,
   "id": "35281ee0",
   "metadata": {},
   "outputs": [
    {
     "data": {
      "text/html": [
       "<div>\n",
       "<style scoped>\n",
       "    .dataframe tbody tr th:only-of-type {\n",
       "        vertical-align: middle;\n",
       "    }\n",
       "\n",
       "    .dataframe tbody tr th {\n",
       "        vertical-align: top;\n",
       "    }\n",
       "\n",
       "    .dataframe thead th {\n",
       "        text-align: right;\n",
       "    }\n",
       "</style>\n",
       "<table border=\"1\" class=\"dataframe\">\n",
       "  <thead>\n",
       "    <tr style=\"text-align: right;\">\n",
       "      <th></th>\n",
       "      <th>RowNumber</th>\n",
       "      <th>CustomerId</th>\n",
       "      <th>Surname</th>\n",
       "      <th>CreditScore</th>\n",
       "      <th>Geography</th>\n",
       "      <th>Gender</th>\n",
       "      <th>Age</th>\n",
       "      <th>Tenure</th>\n",
       "      <th>Balance</th>\n",
       "      <th>NumOfProducts</th>\n",
       "      <th>HasCrCard</th>\n",
       "      <th>IsActiveMember</th>\n",
       "      <th>EstimatedSalary</th>\n",
       "      <th>Exited</th>\n",
       "    </tr>\n",
       "  </thead>\n",
       "  <tbody>\n",
       "    <tr>\n",
       "      <th>0</th>\n",
       "      <td>1</td>\n",
       "      <td>15634602</td>\n",
       "      <td>Hargrave</td>\n",
       "      <td>619</td>\n",
       "      <td>France</td>\n",
       "      <td>Female</td>\n",
       "      <td>42</td>\n",
       "      <td>2.0</td>\n",
       "      <td>0.00</td>\n",
       "      <td>1</td>\n",
       "      <td>1</td>\n",
       "      <td>1</td>\n",
       "      <td>101348.88</td>\n",
       "      <td>1</td>\n",
       "    </tr>\n",
       "    <tr>\n",
       "      <th>1</th>\n",
       "      <td>2</td>\n",
       "      <td>15647311</td>\n",
       "      <td>Hill</td>\n",
       "      <td>608</td>\n",
       "      <td>Spain</td>\n",
       "      <td>Female</td>\n",
       "      <td>41</td>\n",
       "      <td>1.0</td>\n",
       "      <td>83807.86</td>\n",
       "      <td>1</td>\n",
       "      <td>0</td>\n",
       "      <td>1</td>\n",
       "      <td>112542.58</td>\n",
       "      <td>0</td>\n",
       "    </tr>\n",
       "    <tr>\n",
       "      <th>2</th>\n",
       "      <td>3</td>\n",
       "      <td>15619304</td>\n",
       "      <td>Onio</td>\n",
       "      <td>502</td>\n",
       "      <td>France</td>\n",
       "      <td>Female</td>\n",
       "      <td>42</td>\n",
       "      <td>8.0</td>\n",
       "      <td>159660.80</td>\n",
       "      <td>3</td>\n",
       "      <td>1</td>\n",
       "      <td>0</td>\n",
       "      <td>113931.57</td>\n",
       "      <td>1</td>\n",
       "    </tr>\n",
       "    <tr>\n",
       "      <th>3</th>\n",
       "      <td>4</td>\n",
       "      <td>15701354</td>\n",
       "      <td>Boni</td>\n",
       "      <td>699</td>\n",
       "      <td>France</td>\n",
       "      <td>Female</td>\n",
       "      <td>39</td>\n",
       "      <td>1.0</td>\n",
       "      <td>0.00</td>\n",
       "      <td>2</td>\n",
       "      <td>0</td>\n",
       "      <td>0</td>\n",
       "      <td>93826.63</td>\n",
       "      <td>0</td>\n",
       "    </tr>\n",
       "    <tr>\n",
       "      <th>4</th>\n",
       "      <td>5</td>\n",
       "      <td>15737888</td>\n",
       "      <td>Mitchell</td>\n",
       "      <td>850</td>\n",
       "      <td>Spain</td>\n",
       "      <td>Female</td>\n",
       "      <td>43</td>\n",
       "      <td>2.0</td>\n",
       "      <td>125510.82</td>\n",
       "      <td>1</td>\n",
       "      <td>1</td>\n",
       "      <td>1</td>\n",
       "      <td>79084.10</td>\n",
       "      <td>0</td>\n",
       "    </tr>\n",
       "  </tbody>\n",
       "</table>\n",
       "</div>"
      ],
      "text/plain": [
       "   RowNumber  CustomerId   Surname  CreditScore Geography  Gender  Age  \\\n",
       "0          1    15634602  Hargrave          619    France  Female   42   \n",
       "1          2    15647311      Hill          608     Spain  Female   41   \n",
       "2          3    15619304      Onio          502    France  Female   42   \n",
       "3          4    15701354      Boni          699    France  Female   39   \n",
       "4          5    15737888  Mitchell          850     Spain  Female   43   \n",
       "\n",
       "   Tenure    Balance  NumOfProducts  HasCrCard  IsActiveMember  \\\n",
       "0     2.0       0.00              1          1               1   \n",
       "1     1.0   83807.86              1          0               1   \n",
       "2     8.0  159660.80              3          1               0   \n",
       "3     1.0       0.00              2          0               0   \n",
       "4     2.0  125510.82              1          1               1   \n",
       "\n",
       "   EstimatedSalary  Exited  \n",
       "0        101348.88       1  \n",
       "1        112542.58       0  \n",
       "2        113931.57       1  \n",
       "3         93826.63       0  \n",
       "4         79084.10       0  "
      ]
     },
     "execution_count": 2,
     "metadata": {},
     "output_type": "execute_result"
    }
   ],
   "source": [
    "data = pd.read_csv('/Churn.csv')\n",
    "data.head()"
   ]
  },
  {
   "cell_type": "code",
   "execution_count": 3,
   "id": "323e4950",
   "metadata": {},
   "outputs": [
    {
     "data": {
      "text/plain": [
       "(10000, 14)"
      ]
     },
     "execution_count": 3,
     "metadata": {},
     "output_type": "execute_result"
    }
   ],
   "source": [
    "data.shape"
   ]
  },
  {
   "cell_type": "code",
   "execution_count": 4,
   "id": "e3148ef7",
   "metadata": {},
   "outputs": [
    {
     "data": {
      "text/plain": [
       "0"
      ]
     },
     "execution_count": 4,
     "metadata": {},
     "output_type": "execute_result"
    }
   ],
   "source": [
    "data.duplicated().sum()"
   ]
  },
  {
   "cell_type": "code",
   "execution_count": 5,
   "id": "24381caf",
   "metadata": {},
   "outputs": [
    {
     "data": {
      "text/plain": [
       "RowNumber          0.00\n",
       "CustomerId         0.00\n",
       "Surname            0.00\n",
       "CreditScore        0.00\n",
       "Geography          0.00\n",
       "Gender             0.00\n",
       "Age                0.00\n",
       "Tenure             9.09\n",
       "Balance            0.00\n",
       "NumOfProducts      0.00\n",
       "HasCrCard          0.00\n",
       "IsActiveMember     0.00\n",
       "EstimatedSalary    0.00\n",
       "Exited             0.00\n",
       "dtype: float64"
      ]
     },
     "execution_count": 5,
     "metadata": {},
     "output_type": "execute_result"
    }
   ],
   "source": [
    "(data.isnull().mean())*100"
   ]
  },
  {
   "cell_type": "code",
   "execution_count": 6,
   "id": "82623828",
   "metadata": {},
   "outputs": [
    {
     "data": {
      "text/plain": [
       "RowNumber            0\n",
       "CustomerId           0\n",
       "Surname              0\n",
       "CreditScore          0\n",
       "Geography            0\n",
       "Gender               0\n",
       "Age                  0\n",
       "Tenure             909\n",
       "Balance              0\n",
       "NumOfProducts        0\n",
       "HasCrCard            0\n",
       "IsActiveMember       0\n",
       "EstimatedSalary      0\n",
       "Exited               0\n",
       "dtype: int64"
      ]
     },
     "execution_count": 6,
     "metadata": {},
     "output_type": "execute_result"
    }
   ],
   "source": [
    "data.isna().sum()"
   ]
  },
  {
   "cell_type": "code",
   "execution_count": 7,
   "id": "455be56a",
   "metadata": {},
   "outputs": [
    {
     "data": {
      "text/plain": [
       "RowNumber            int64\n",
       "CustomerId           int64\n",
       "Surname             object\n",
       "CreditScore          int64\n",
       "Geography           object\n",
       "Gender              object\n",
       "Age                  int64\n",
       "Tenure             float64\n",
       "Balance            float64\n",
       "NumOfProducts        int64\n",
       "HasCrCard            int64\n",
       "IsActiveMember       int64\n",
       "EstimatedSalary    float64\n",
       "Exited               int64\n",
       "dtype: object"
      ]
     },
     "execution_count": 7,
     "metadata": {},
     "output_type": "execute_result"
    }
   ],
   "source": [
    "data.dtypes"
   ]
  },
  {
   "cell_type": "markdown",
   "id": "4359daf1",
   "metadata": {},
   "source": [
    "**Вывод:** В данных отсутствиую явные дубликаты, но присутствуют пропуски в колонке Tenure. В датасете превалируют численные значения."
   ]
  },
  {
   "cell_type": "markdown",
   "id": "db62e554",
   "metadata": {},
   "source": [
    "### Подготовим данные для решения задачи"
   ]
  },
  {
   "cell_type": "markdown",
   "id": "a0dcadb8",
   "metadata": {},
   "source": [
    "Часть колонок следует исключить из дата сета, это: RowNumber,CustomerId и Surname.\n",
    "\n",
    "RowNumber и CustomerId будут только сбивать с толку нашу будующую модель, а после преобразования данных OHE Surname нам вернёт огромное количество колонок, нам это не к чему."
   ]
  },
  {
   "cell_type": "code",
   "execution_count": 8,
   "id": "e8155fec",
   "metadata": {},
   "outputs": [],
   "source": [
    "data=data.drop(columns=['RowNumber','CustomerId','Surname'])"
   ]
  },
  {
   "cell_type": "markdown",
   "id": "f4ea41ba",
   "metadata": {},
   "source": [
    "Пропуски в колонке Tenure заполним медианными значениями."
   ]
  },
  {
   "cell_type": "code",
   "execution_count": 9,
   "id": "2b643ab4",
   "metadata": {},
   "outputs": [
    {
     "data": {
      "text/plain": [
       "5.0"
      ]
     },
     "execution_count": 9,
     "metadata": {},
     "output_type": "execute_result"
    }
   ],
   "source": [
    "data['Tenure'].median()"
   ]
  },
  {
   "cell_type": "code",
   "execution_count": 10,
   "id": "c372906b",
   "metadata": {},
   "outputs": [
    {
     "data": {
      "text/plain": [
       "CreditScore        0\n",
       "Geography          0\n",
       "Gender             0\n",
       "Age                0\n",
       "Tenure             0\n",
       "Balance            0\n",
       "NumOfProducts      0\n",
       "HasCrCard          0\n",
       "IsActiveMember     0\n",
       "EstimatedSalary    0\n",
       "Exited             0\n",
       "dtype: int64"
      ]
     },
     "execution_count": 10,
     "metadata": {},
     "output_type": "execute_result"
    }
   ],
   "source": [
    "data = data.fillna(data['Tenure'].median())\n",
    "data.isna().sum()"
   ]
  },
  {
   "cell_type": "markdown",
   "id": "12e5f756",
   "metadata": {},
   "source": [
    "### Разбивка данных на признаки и цели."
   ]
  },
  {
   "cell_type": "code",
   "execution_count": 11,
   "id": "c37449a8",
   "metadata": {},
   "outputs": [],
   "source": [
    "data_train, data_sep = train_test_split(data,train_size=0.6, test_size=0.4, random_state=12345)\n",
    "data_valid, data_test = train_test_split(data_sep, test_size=0.5, random_state=12345)"
   ]
  },
  {
   "cell_type": "code",
   "execution_count": 12,
   "id": "2ac20057",
   "metadata": {},
   "outputs": [
    {
     "data": {
      "text/plain": [
       "(6000, 11)"
      ]
     },
     "execution_count": 12,
     "metadata": {},
     "output_type": "execute_result"
    }
   ],
   "source": [
    "data_train.shape"
   ]
  },
  {
   "cell_type": "code",
   "execution_count": 13,
   "id": "89b8676e",
   "metadata": {},
   "outputs": [
    {
     "data": {
      "text/plain": [
       "(2000, 11)"
      ]
     },
     "execution_count": 13,
     "metadata": {},
     "output_type": "execute_result"
    }
   ],
   "source": [
    "data_valid.shape"
   ]
  },
  {
   "cell_type": "code",
   "execution_count": 14,
   "id": "f6c12551",
   "metadata": {},
   "outputs": [
    {
     "data": {
      "text/plain": [
       "(2000, 11)"
      ]
     },
     "execution_count": 14,
     "metadata": {},
     "output_type": "execute_result"
    }
   ],
   "source": [
    "data_test.shape"
   ]
  },
  {
   "cell_type": "code",
   "execution_count": 15,
   "id": "b11d6e68",
   "metadata": {},
   "outputs": [],
   "source": [
    "features_train = data_train.drop(['Exited'], axis=1)\n",
    "target_train = data_train['Exited']"
   ]
  },
  {
   "cell_type": "code",
   "execution_count": 16,
   "id": "9a3e2974",
   "metadata": {},
   "outputs": [],
   "source": [
    "features_valid = data_valid.drop(['Exited'], axis=1)\n",
    "target_valid = data_valid['Exited']"
   ]
  },
  {
   "cell_type": "code",
   "execution_count": 17,
   "id": "c6ddf012",
   "metadata": {},
   "outputs": [],
   "source": [
    "features_test = data_test.drop(['Exited'], axis=1)\n",
    "target_test = data_test['Exited']"
   ]
  },
  {
   "cell_type": "code",
   "execution_count": 18,
   "id": "0e0156f9",
   "metadata": {},
   "outputs": [],
   "source": [
    "features_train = pd.get_dummies(features_train, drop_first=True)\n",
    "features_valid = pd.get_dummies(features_valid, drop_first=True)\n",
    "features_test = pd.get_dummies(features_test, drop_first=True)"
   ]
  },
  {
   "cell_type": "markdown",
   "id": "16c24b7f",
   "metadata": {},
   "source": [
    "### Масштабирование признаков"
   ]
  },
  {
   "cell_type": "markdown",
   "id": "976e79ff",
   "metadata": {},
   "source": [
    "Выберем все колонки содержащие числовые значения."
   ]
  },
  {
   "cell_type": "code",
   "execution_count": 19,
   "id": "6f05e679",
   "metadata": {},
   "outputs": [],
   "source": [
    "numeric = ['CreditScore', 'Age', 'Tenure', 'Balance', 'NumOfProducts', 'EstimatedSalary']"
   ]
  },
  {
   "cell_type": "code",
   "execution_count": 20,
   "id": "2972f74a",
   "metadata": {},
   "outputs": [
    {
     "data": {
      "text/plain": [
       "StandardScaler()"
      ]
     },
     "execution_count": 20,
     "metadata": {},
     "output_type": "execute_result"
    }
   ],
   "source": [
    "scaler = StandardScaler()\n",
    "scaler.fit(features_train[numeric])"
   ]
  },
  {
   "cell_type": "code",
   "execution_count": 21,
   "id": "1e51c8df",
   "metadata": {},
   "outputs": [],
   "source": [
    "features_train[numeric] = scaler.transform(features_train[numeric])\n",
    "features_valid[numeric] = scaler.transform(features_valid[numeric])\n",
    "features_test[numeric] = scaler.transform(features_test[numeric])"
   ]
  },
  {
   "cell_type": "markdown",
   "id": "b347ddd0",
   "metadata": {},
   "source": [
    "## Исследование задачи"
   ]
  },
  {
   "cell_type": "markdown",
   "id": "30329e17",
   "metadata": {},
   "source": [
    "### Пробное обучение модели"
   ]
  },
  {
   "cell_type": "code",
   "execution_count": 22,
   "id": "35a06773",
   "metadata": {},
   "outputs": [
    {
     "data": {
      "text/plain": [
       "0.7935"
      ]
     },
     "execution_count": 22,
     "metadata": {},
     "output_type": "execute_result"
    }
   ],
   "source": [
    "model = DecisionTreeClassifier(random_state=12345).fit(features_train,target_train)\n",
    "predicted_valid = model.predict(features_valid)\n",
    "accuracy_score(target_valid, predicted_valid)"
   ]
  },
  {
   "cell_type": "markdown",
   "id": "7a9d6d53",
   "metadata": {},
   "source": [
    "### Проверка адеквтности модели"
   ]
  },
  {
   "cell_type": "code",
   "execution_count": 23,
   "id": "cc5397a9",
   "metadata": {},
   "outputs": [
    {
     "data": {
      "text/plain": [
       "0    0.7963\n",
       "1    0.2037\n",
       "Name: Exited, dtype: float64"
      ]
     },
     "execution_count": 23,
     "metadata": {},
     "output_type": "execute_result"
    }
   ],
   "source": [
    "class_freq = data['Exited'].value_counts(normalize=True)\n",
    "class_freq"
   ]
  },
  {
   "cell_type": "code",
   "execution_count": 24,
   "id": "db3eeea2",
   "metadata": {},
   "outputs": [
    {
     "data": {
      "text/plain": [
       "<AxesSubplot:>"
      ]
     },
     "execution_count": 24,
     "metadata": {},
     "output_type": "execute_result"
    },
    {
     "data": {
      "image/png": "[encoded data removed]",
      "text/plain": [
       "<Figure size 640x480 with 1 Axes>"
      ]
     },
     "metadata": {},
     "output_type": "display_data"
    }
   ],
   "source": [
    "class_freq.plot(kind='bar')"
   ]
  },
  {
   "cell_type": "markdown",
   "id": "b26ca2cd",
   "metadata": {},
   "source": [
    "Вывод: данные распределены не равномерно."
   ]
  },
  {
   "cell_type": "markdown",
   "id": "97e356fd",
   "metadata": {},
   "source": [
    "### Матрица ошибок"
   ]
  },
  {
   "cell_type": "code",
   "execution_count": 25,
   "id": "bbed805a",
   "metadata": {},
   "outputs": [
    {
     "data": {
      "text/plain": [
       "array([[1380,  202],\n",
       "       [ 211,  207]], dtype=int64)"
      ]
     },
     "execution_count": 25,
     "metadata": {},
     "output_type": "execute_result"
    }
   ],
   "source": [
    "confusion_matrix(target_valid,predicted_valid)"
   ]
  },
  {
   "cell_type": "markdown",
   "id": "3dcb14b0",
   "metadata": {},
   "source": [
    "**Вывод:** из 1380 правильных ответов только 202 предсказаний оказались корректыми."
   ]
  },
  {
   "cell_type": "markdown",
   "id": "4642e293",
   "metadata": {},
   "source": [
    "### Рассмотрение метрик"
   ]
  },
  {
   "cell_type": "markdown",
   "id": "60bf3ddd",
   "metadata": {},
   "source": [
    "**Полнота**"
   ]
  },
  {
   "cell_type": "code",
   "execution_count": 26,
   "id": "7194f610",
   "metadata": {},
   "outputs": [
    {
     "data": {
      "text/plain": [
       "0.49521531100478466"
      ]
     },
     "execution_count": 26,
     "metadata": {},
     "output_type": "execute_result"
    }
   ],
   "source": [
    "recall_score(target_valid,predicted_valid)"
   ]
  },
  {
   "cell_type": "markdown",
   "id": "4b4a00cd",
   "metadata": {},
   "source": [
    "**Точность**"
   ]
  },
  {
   "cell_type": "code",
   "execution_count": 27,
   "id": "75da93d2",
   "metadata": {},
   "outputs": [
    {
     "data": {
      "text/plain": [
       "0.5061124694376528"
      ]
     },
     "execution_count": 27,
     "metadata": {},
     "output_type": "execute_result"
    }
   ],
   "source": [
    "precision_score(target_valid,predicted_valid)"
   ]
  },
  {
   "cell_type": "markdown",
   "id": "81e03b5d",
   "metadata": {},
   "source": [
    "**F1-мера**"
   ]
  },
  {
   "cell_type": "code",
   "execution_count": 28,
   "id": "cf9f43a5",
   "metadata": {},
   "outputs": [
    {
     "data": {
      "text/plain": [
       "0.5006045949214026"
      ]
     },
     "execution_count": 28,
     "metadata": {},
     "output_type": "execute_result"
    }
   ],
   "source": [
    "f1_score(target_valid,predicted_valid)"
   ]
  },
  {
   "cell_type": "markdown",
   "id": "3101a279",
   "metadata": {},
   "source": [
    "**Вывод:** наши показатели почти близки к половине, но этого не достаточно.\n",
    "\n",
    "Необходимо придать объектам редкого класса больший вес. В имеющихся данных это 1."
   ]
  },
  {
   "cell_type": "markdown",
   "id": "16865fd4",
   "metadata": {},
   "source": [
    "## Борьба с дисбалансом"
   ]
  },
  {
   "cell_type": "markdown",
   "id": "51cf50d7",
   "metadata": {},
   "source": [
    "Поскольку мы имеем дело с задачей классификации, используем случайный лес."
   ]
  },
  {
   "cell_type": "code",
   "execution_count": 29,
   "id": "ad198c8d",
   "metadata": {},
   "outputs": [
    {
     "data": {
      "text/plain": [
       "0.5718701700154559"
      ]
     },
     "execution_count": 29,
     "metadata": {},
     "output_type": "execute_result"
    }
   ],
   "source": [
    "model = RandomForestClassifier(random_state=12345, class_weight='balanced').fit(features_train,target_train)\n",
    "predicted_valid = model.predict(features_valid)\n",
    "f1_score(target_valid,predicted_valid)"
   ]
  },
  {
   "cell_type": "markdown",
   "id": "6256a3cc",
   "metadata": {},
   "source": [
    "**Вывод:** f1-мера подросла.Проведем увеличение выборки."
   ]
  },
  {
   "cell_type": "code",
   "execution_count": 30,
   "id": "83455a54",
   "metadata": {},
   "outputs": [],
   "source": [
    "def unsample(features, target, repeat):\n",
    "    features_zeros = features_train[target_train == 0]\n",
    "    features_ones = features_train[target_train == 1]\n",
    "    target_zeros = target_train[target_train == 0]\n",
    "    target_ones = target_train[target_train == 1]\n",
    "    \n",
    "    features_upsampled = pd.concat([features_zeros]+[features_ones]*repeat)\n",
    "    target_upsamppled = pd.concat([target_zeros]+[target_ones]*repeat)\n",
    "    return features_upsampled, target_upsamppled\n",
    "\n",
    "features_upsampled, target_upsampled = unsample(features_train,target_train, 10)\n",
    "\n",
    "features_upsampled, target_upsampled = shuffle(features_upsampled, target_upsampled, random_state=12345)"
   ]
  },
  {
   "cell_type": "code",
   "execution_count": 31,
   "id": "438922e9",
   "metadata": {},
   "outputs": [
    {
     "data": {
      "text/plain": [
       "0.5904761904761905"
      ]
     },
     "execution_count": 31,
     "metadata": {},
     "output_type": "execute_result"
    }
   ],
   "source": [
    "model = RandomForestClassifier(random_state=12345).fit(features_upsampled,target_upsampled)\n",
    "predicted_valid = model.predict(features_valid)\n",
    "f1_score(target_valid,predicted_valid)"
   ]
  },
  {
   "cell_type": "markdown",
   "id": "672c31cf",
   "metadata": {},
   "source": [
    "**Вывод:** метрика продолжает расти.\n",
    "\n",
    "Подберем количество деревьев и глубину для улучшения показателей модели."
   ]
  },
  {
   "cell_type": "code",
   "execution_count": 32,
   "id": "19abe48e",
   "metadata": {},
   "outputs": [
    {
     "name": "stdout",
     "output_type": "stream",
     "text": [
      "Лучшая глубина: 14 Лучший результат: 0.6006904487917146\n"
     ]
    }
   ],
   "source": [
    "best_result = 0\n",
    "best_depth = 0\n",
    "for depth in range(1, 20, 1):\n",
    "    model = RandomForestClassifier(max_depth=depth, random_state=12345)\n",
    "    model.fit(features_upsampled, target_upsampled)\n",
    "    prediction_valid = model.predict(features_valid)\n",
    "    result = f1_score(target_valid,prediction_valid)\n",
    "    if result > best_result:\n",
    "        best_result = result\n",
    "        best_depth = depth\n",
    "print('Лучшая глубина:',best_depth, 'Лучший результат:', best_result)"
   ]
  },
  {
   "cell_type": "code",
   "execution_count": 33,
   "id": "6b664c8c",
   "metadata": {},
   "outputs": [
    {
     "name": "stdout",
     "output_type": "stream",
     "text": [
      "Лучшее количество деревьев: 91 Лучший результат: 0.6116838487972508\n"
     ]
    }
   ],
   "source": [
    "best_result = 0\n",
    "best_est = 0\n",
    "for est in range(1, 100, 10):\n",
    "    model = RandomForestClassifier(n_estimators=est, max_depth=14, random_state=12345)\n",
    "    model.fit(features_upsampled,target_upsampled)\n",
    "    prediction_valid = model.predict(features_valid)\n",
    "    result = f1_score(target_valid,prediction_valid)\n",
    "    if result > best_result:\n",
    "        best_result = result\n",
    "        best_est = est\n",
    "print('Лучшее количество деревьев:', best_est, 'Лучший результат:', best_result)"
   ]
  },
  {
   "cell_type": "code",
   "execution_count": 34,
   "id": "3b3a3b7a",
   "metadata": {},
   "outputs": [
    {
     "data": {
      "text/plain": [
       "0.46971569839307786"
      ]
     },
     "execution_count": 34,
     "metadata": {},
     "output_type": "execute_result"
    }
   ],
   "source": [
    "model = DecisionTreeClassifier(random_state=12345).fit(features_upsampled,target_upsampled)\n",
    "predicted_valid = model.predict(features_valid)\n",
    "f1_score(target_valid,predicted_valid)"
   ]
  },
  {
   "cell_type": "markdown",
   "id": "ce7ec8d9",
   "metadata": {},
   "source": [
    "**Вывод:** лучший результат даёт Случайный лес."
   ]
  },
  {
   "cell_type": "markdown",
   "id": "ab04199a",
   "metadata": {},
   "source": [
    "## Тестирование модели"
   ]
  },
  {
   "cell_type": "code",
   "execution_count": 35,
   "id": "e89fb1bc",
   "metadata": {},
   "outputs": [
    {
     "data": {
      "text/plain": [
       "0.6011173184357542"
      ]
     },
     "execution_count": 35,
     "metadata": {},
     "output_type": "execute_result"
    }
   ],
   "source": [
    "model = RandomForestClassifier(n_estimators=90, max_depth=14, random_state=12345).fit(features_upsampled, target_upsampled)\n",
    "prediction_test = model.predict(features_test)\n",
    "f1_score(target_test,prediction_test)"
   ]
  },
  {
   "cell_type": "code",
   "execution_count": 36,
   "id": "8ac2c661",
   "metadata": {},
   "outputs": [
    {
     "data": {
      "text/plain": [
       "0.8442901880009773"
      ]
     },
     "execution_count": 36,
     "metadata": {},
     "output_type": "execute_result"
    }
   ],
   "source": [
    "proba_test = model.predict_proba(features_test)\n",
    "proba_one_test = proba_test[:, 1]\n",
    "roc_auc_score(target_test,proba_one_test)"
   ]
  },
  {
   "cell_type": "markdown",
   "id": "870442c1",
   "metadata": {},
   "source": [
    "**Вывод:** После проведения исследования и подбора наиболее подходящих гиперпараметров случайного леса, лучший показатель f1-меры при количестве деревьев 90 и их глубине 14."
   ]
  }
 ],
 "metadata": {
  "kernelspec": {
   "display_name": "Python 3 (ipykernel)",
   "language": "python",
   "name": "python3"
  },
  "language_info": {
   "codemirror_mode": {
    "name": "ipython",
    "version": 3
   },
   "file_extension": ".py",
   "mimetype": "text/x-python",
   "name": "python",
   "nbconvert_exporter": "python",
   "pygments_lexer": "ipython3",
   "version": "3.9.13"
  }
 },
 "nbformat": 4,
 "nbformat_minor": 5
}
